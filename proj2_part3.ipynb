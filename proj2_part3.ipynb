{
 "cells": [
  {
   "cell_type": "markdown",
   "metadata": {},
   "source": [
    "Virtual view using two stereo images"
   ]
  },
  {
   "cell_type": "code",
   "execution_count": 1,
   "metadata": {
    "collapsed": true
   },
   "outputs": [],
   "source": [
    "import os\n",
    "import numpy as np\n",
    "import cv2\n",
    "import math\n",
    "import sys\n",
    "import matplotlib.image as mpimg\n",
    "import matplotlib.pyplot as plt"
   ]
  },
  {
   "cell_type": "code",
   "execution_count": 2,
   "metadata": {
    "collapsed": true
   },
   "outputs": [],
   "source": [
    "#left_img = mpimg.imread('view1.png')  \n",
    "#right_img = mpimg.imread('view5.png')\n",
    "left_img = cv2.imread('view1.png')\n",
    "right_img = cv2.imread('view5.png')\n",
    "left_depth = cv2.imread('disp1.png',0)\n",
    "right_depth = cv2.imread('disp5.png',0)"
   ]
  },
  {
   "cell_type": "code",
   "execution_count": 3,
   "metadata": {
    "collapsed": true
   },
   "outputs": [],
   "source": [
    "def plot_me(img):\n",
    "    #plt.imshow(img)\n",
    "    cv2.imshow('image',img)\n",
    "    cv2.waitKey()"
   ]
  },
  {
   "cell_type": "code",
   "execution_count": 4,
   "metadata": {
    "collapsed": false
   },
   "outputs": [],
   "source": [
    "img_ref = right_img\n",
    "depth_ref = right_depth\n",
    "#virtImg = np.zeros(right_img.shape,dtype=np.int_)"
   ]
  },
  {
   "cell_type": "code",
   "execution_count": 5,
   "metadata": {
    "collapsed": false
   },
   "outputs": [],
   "source": [
    "def getShiftedVirtualImg(img_ref,depth_ref,l2r=True):\n",
    "    virtImg = np.zeros(img_ref.shape,dtype=np.int_)\n",
    "    for i in range(0,depth_ref.shape[0]):\n",
    "        for j in range(0,depth_ref.shape[1]):\n",
    "            deltaJ = int(depth_ref[i,j]/2)\n",
    "            if(l2r==True):\n",
    "                if(j+deltaJ>=img_ref.shape[0]):\n",
    "                    deltaJ=0\n",
    "                else:\n",
    "                    virtImg[i,j+deltaJ,:]= img_ref[i,j,:]\n",
    "            else:\n",
    "                if(j-deltaJ<0):\n",
    "                    deltaJ=0\n",
    "                else:\n",
    "                    virtImg[i,j-deltaJ,:]= img_ref[i,j,:]\n",
    "    return virtImg"
   ]
  },
  {
   "cell_type": "code",
   "execution_count": 6,
   "metadata": {
    "collapsed": false
   },
   "outputs": [],
   "source": [
    "VI_right = getShiftedVirtualImg(img_ref=right_img,depth_ref=right_depth,l2r=True)"
   ]
  },
  {
   "cell_type": "code",
   "execution_count": 7,
   "metadata": {
    "collapsed": true
   },
   "outputs": [],
   "source": [
    "VI_left = getShiftedVirtualImg(img_ref=left_img,depth_ref=left_depth,l2r=False)"
   ]
  },
  {
   "cell_type": "code",
   "execution_count": 8,
   "metadata": {
    "collapsed": false
   },
   "outputs": [],
   "source": [
    "VI_right = VI_right.astype(np.uint8)\n",
    "VI_left = VI_left.astype(np.uint8)"
   ]
  },
  {
   "cell_type": "code",
   "execution_count": 9,
   "metadata": {
    "collapsed": false
   },
   "outputs": [],
   "source": [
    "#plot_me(VI_right)"
   ]
  },
  {
   "cell_type": "code",
   "execution_count": 10,
   "metadata": {
    "collapsed": false
   },
   "outputs": [],
   "source": [
    "#plot_me(VI_left)"
   ]
  },
  {
   "cell_type": "code",
   "execution_count": 11,
   "metadata": {
    "collapsed": true
   },
   "outputs": [],
   "source": [
    "#plot_me(right_img)"
   ]
  },
  {
   "cell_type": "code",
   "execution_count": 12,
   "metadata": {
    "collapsed": true
   },
   "outputs": [],
   "source": [
    "def getCombinedVirtualView(img_first,img_second):\n",
    "    comboImg = np.copy(img_first)\n",
    "    for i in range(0,img_first.shape[0]):\n",
    "        for j in range(0,img_first.shape[1]):\n",
    "            if(np.all(img_first[i,j,:]==np.zeros((1,3),dtype=np.int_))):\n",
    "                #the pixel is dark\n",
    "                comboImg[i,j,:]=img_second[i,j,:]\n",
    "    return comboImg"
   ]
  },
  {
   "cell_type": "code",
   "execution_count": 13,
   "metadata": {
    "collapsed": false
   },
   "outputs": [],
   "source": [
    "ci = getCombinedVirtualView(img_first=VI_left,img_second=VI_right)"
   ]
  },
  {
   "cell_type": "code",
   "execution_count": 14,
   "metadata": {
    "collapsed": false
   },
   "outputs": [],
   "source": [
    "#plot_me(ci)"
   ]
  },
  {
   "cell_type": "code",
   "execution_count": 15,
   "metadata": {
    "collapsed": false
   },
   "outputs": [
    {
     "data": {
      "text/plain": [
       "True"
      ]
     },
     "execution_count": 15,
     "metadata": {},
     "output_type": "execute_result"
    }
   ],
   "source": [
    "cv2.imwrite('compositeImage.png',ci)\n",
    "cv2.imwrite('shiftedRightImage.png',VI_right)\n",
    "cv2.imwrite('shiftedLeftImage.png',VI_left)"
   ]
  },
  {
   "cell_type": "code",
   "execution_count": null,
   "metadata": {
    "collapsed": true
   },
   "outputs": [],
   "source": []
  }
 ],
 "metadata": {
  "kernelspec": {
   "display_name": "Python 2",
   "language": "python",
   "name": "python2"
  },
  "language_info": {
   "codemirror_mode": {
    "name": "ipython",
    "version": 2
   },
   "file_extension": ".py",
   "mimetype": "text/x-python",
   "name": "python",
   "nbconvert_exporter": "python",
   "pygments_lexer": "ipython2",
   "version": "2.7.11"
  }
 },
 "nbformat": 4,
 "nbformat_minor": 0
}
