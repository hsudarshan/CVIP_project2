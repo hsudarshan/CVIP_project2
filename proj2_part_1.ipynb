{
 "cells": [
  {
   "cell_type": "markdown",
   "metadata": {},
   "source": [
    "Question1 : Block matching \n",
    "Use of SSD to establish best fit"
   ]
  },
  {
   "cell_type": "markdown",
   "metadata": {},
   "source": [
    "Common Segment: loading the image and creating required placeholder/vars ..etc ..."
   ]
  },
  {
   "cell_type": "code",
   "execution_count": 1,
   "metadata": {
    "collapsed": true
   },
   "outputs": [],
   "source": [
    "import os\n",
    "import numpy as np\n",
    "import cv2\n",
    "import math\n",
    "import sys"
   ]
  },
  {
   "cell_type": "code",
   "execution_count": 2,
   "metadata": {
    "collapsed": false
   },
   "outputs": [],
   "source": [
    "left_img = cv2.imread('view1.png', 0)  #read it as a grayscale image\n",
    "right_img = cv2.imread('view5.png', 0)\n",
    "left_depth = cv2.imread('disp1.png',0)\n",
    "right_depth = cv2.imread('disp5.png',0)"
   ]
  },
  {
   "cell_type": "code",
   "execution_count": 3,
   "metadata": {
    "collapsed": true
   },
   "outputs": [],
   "source": [
    "def getSample(windowDim,xPos,yPos,srcImg,test=False,direction=0):\n",
    "    \"\"\"This function returns a nxn dimension subsample centred around u,v from given source\"\"\"\n",
    "    deltaIndex=int((windowDim-1)/2)\n",
    "    srcDim = srcImg.shape\n",
    "    if(test==True):\n",
    "        if(srcDim[0]==windowDim):\n",
    "            if(direction==0):\n",
    "                if((yPos + deltaIndex) >= srcDim[1]):\n",
    "                    return False\n",
    "                elif((xPos - deltaIndex) < 0):\n",
    "                    return False\n",
    "                else:\n",
    "                    return True\n",
    "            else:\n",
    "                if((yPos - deltaIndex) < 1):\n",
    "                    return False\n",
    "                elif((xPos - deltaIndex) < 0):\n",
    "                    return False\n",
    "                else:\n",
    "                    return True\n",
    "        else:\n",
    "            #print(srcDim)\n",
    "            if((xPos+deltaIndex)>=srcDim[0]):\n",
    "                return False\n",
    "            elif((xPos-deltaIndex)<0):\n",
    "                return False\n",
    "            elif((yPos+deltaIndex)>=srcDim[1]):\n",
    "                return False\n",
    "            elif((yPos-deltaIndex)<0):\n",
    "                return False\n",
    "            else:\n",
    "                return True\n",
    "    else:\n",
    "        if(srcDim[0]==windowDim):\n",
    "            \"\"\" it is for one row comparison\"\"\"\n",
    "            x = srcImg[:,yPos-deltaIndex:yPos+deltaIndex+1]\n",
    "        else:\n",
    "            x = srcImg[xPos-deltaIndex:xPos+deltaIndex+1,yPos-deltaIndex:yPos+deltaIndex+1]\n",
    "        #if(x.shape[0]!=x.shape[1]):\n",
    "        #    print(xPos,yPos,srcDim)\n",
    "        return x"
   ]
  },
  {
   "cell_type": "code",
   "execution_count": 4,
   "metadata": {
    "collapsed": true
   },
   "outputs": [],
   "source": [
    "def getSSD(npArray1, npArray2):\n",
    "    \"\"\"This function returns the Sum of Square Difference for two given blocks\"\"\"\n",
    "    npArray1 = npArray1.astype(np.int_)\n",
    "    npArray2 = npArray2.astype(np.int_)\n",
    "    diff = npArray1 - npArray2\n",
    "    diffSq = np.square(diff)\n",
    "    diffSq = diffSq.flatten()\n",
    "    SSD = np.sum(diffSq)\n",
    "    return SSD\n",
    "    "
   ]
  },
  {
   "cell_type": "code",
   "execution_count": 5,
   "metadata": {
    "collapsed": false
   },
   "outputs": [],
   "source": [
    "def getDisparityValue(refSample,u,v,varSampleRow,limit,l2r=True,dim=3):\n",
    "    \"\"\"This function returns the disparity value given\n",
    "        reference Sample, position of the reference sample, limit, left to right and\n",
    "        shape of the original image(Complete)\"\"\"\n",
    "    leastSSD = (sys.maxint,(u,v))\n",
    "    SSDList = []\n",
    "    #dimComplete = completeImgShape[1]\n",
    "    for i in range(0,limit):\n",
    "        if(l2r==True):\n",
    "            if (getSample(windowDim=dim, xPos=u, yPos= (v + i), srcImg=varSampleRow, test=True) == False):\n",
    "                break\n",
    "            varSubSample=getSample(windowDim=dim,xPos=u,yPos=(v+i),srcImg=varSampleRow)\n",
    "        else:\n",
    "            if (getSample(windowDim=dim,xPos= u,yPos= (v-i), srcImg=varSampleRow, test=True, direction=1) == False):\n",
    "                break\n",
    "            varSubSample=getSample(windowDim=dim,xPos=u,yPos=(v-i),srcImg=varSampleRow)\n",
    "            if(refSample.shape!=varSubSample.shape):\n",
    "                print(varSubSample.shape,i,u,v)\n",
    "        varSSD = getSSD(refSample,varSubSample)\n",
    "        SSDList.append(int(varSSD))\n",
    "        if(varSSD<leastSSD[0]):\n",
    "            #leastSSD[0] = varSSD\n",
    "            if(l2r==True):\n",
    "                leastSSD = (varSSD,(u,v+i))\n",
    "            else:\n",
    "                leastSSD = (varSSD,(u,v-i))\n",
    "        if(varSSD==0):\n",
    "            break\n",
    "    #leastSSDPos = leastSSD[1]\n",
    "    #disparity = int(math.fabs(v-leastSSDPos[1]))\n",
    "    if(len(SSDList) >0):\n",
    "        indexLeastSSD = np.argmin(SSDList)\n",
    "    else:\n",
    "        indexLeastSSD = int(0)\n",
    "    disparity = indexLeastSSD\n",
    "    return disparity"
   ]
  },
  {
   "cell_type": "code",
   "execution_count": 6,
   "metadata": {
    "collapsed": true
   },
   "outputs": [],
   "source": [
    "from matplotlib import pyplot as plt\n",
    "def plot_me(img):\n",
    "    plt.imshow(img, cmap = 'gray', interpolation = 'bicubic')\n",
    "    plt.xticks([]), plt.yticks([])  # to hide tick values on X and Y axis\n",
    "    plt.show()"
   ]
  },
  {
   "cell_type": "code",
   "execution_count": 7,
   "metadata": {
    "collapsed": false
   },
   "outputs": [],
   "source": [
    "#looping through the reference image to build the disparityMatrix\n",
    "def getDisparityMatrix(refImage,secondImage,wDim,wLimit=100,l2r=True):\n",
    "    #numRows = refImage.shape[0]\n",
    "    delta = int((wDim-1)/2)\n",
    "    xpad = ((delta,delta),(delta,delta))\n",
    "    ref_imgPad = np.pad(refImage,xpad,mode='constant',constant_values=0)\n",
    "    second_imgPad = np.pad(secondImage,xpad,mode='constant',constant_values=0)\n",
    "    DisparityMatrix = np.zeros(refImage.shape,dtype=np.int_)\n",
    "    DisparityMatrix = np.pad(DisparityMatrix,xpad,mode='constant',constant_values=0)\n",
    "    for i in range(delta,ref_imgPad.shape[0]-delta):\n",
    "        \"\"\" sr - right side img subset .. height N, width img_width\"\"\"\n",
    "        sR_set = second_imgPad[i - delta:i + delta + 1, :]\n",
    "        for j in range(delta,ref_imgPad.shape[1]-delta):\n",
    "            checkTest = getSample(windowDim=wDim,xPos=i,yPos=j,srcImg=ref_imgPad,test=True)\n",
    "            if(checkTest==True):\n",
    "                sL=getSample(windowDim=wDim,xPos=i,yPos=j,srcImg=ref_imgPad,test=False)\n",
    "                value = int(getDisparityValue(refSample=sL,u=i,v=j,varSampleRow=sR_set,limit=wLimit,l2r=l2r,dim=wDim))\n",
    "                DisparityMatrix[i,j]=value\n",
    "            else:\n",
    "                #return DisparityMatrix\n",
    "                pass\n",
    "    return DisparityMatrix"
   ]
  },
  {
   "cell_type": "code",
   "execution_count": 8,
   "metadata": {
    "collapsed": true
   },
   "outputs": [],
   "source": [
    "#plot_me(DM)"
   ]
  },
  {
   "cell_type": "code",
   "execution_count": 9,
   "metadata": {
    "collapsed": false
   },
   "outputs": [],
   "source": [
    "#plot_me(DM_left)"
   ]
  },
  {
   "cell_type": "code",
   "execution_count": 10,
   "metadata": {
    "collapsed": false
   },
   "outputs": [],
   "source": [
    "#plot_me(DM_right)"
   ]
  },
  {
   "cell_type": "code",
   "execution_count": null,
   "metadata": {
    "collapsed": true
   },
   "outputs": [],
   "source": []
  },
  {
   "cell_type": "markdown",
   "metadata": {},
   "source": [
    "First Segment:Generate disparity maps for 3x3 and 9x9 window sizes"
   ]
  },
  {
   "cell_type": "code",
   "execution_count": 11,
   "metadata": {
    "collapsed": false
   },
   "outputs": [],
   "source": [
    "windowSize=3\n",
    "delta = int((windowSize-1)/2)\n",
    "#xpad = ((delta,delta),(delta,delta))\n",
    "#DM = np.pad(DisparityMatrix,xpad,mode='constant',constant_values=0)\n",
    "DM_left_n3 = getDisparityMatrix(refImage=left_img,secondImage=right_img,wDim=windowSize,wLimit=75,l2r=False)\n",
    "DM_right_n3 = getDisparityMatrix(refImage=right_img,secondImage=left_img,wDim=windowSize,wLimit=75,l2r=True)"
   ]
  },
  {
   "cell_type": "code",
   "execution_count": 12,
   "metadata": {
    "collapsed": false
   },
   "outputs": [],
   "source": [
    "DM_left_n3_trim = DM_left_n3[delta:delta+left_img.shape[0], delta:delta+left_img.shape[1]]\n",
    "DM_right_n3_trim = DM_right_n3[delta:delta+right_img.shape[0], delta:delta+right_img.shape[1]]"
   ]
  },
  {
   "cell_type": "code",
   "execution_count": 13,
   "metadata": {
    "collapsed": true
   },
   "outputs": [],
   "source": [
    "windowSize=9\n",
    "#delta = int((windowSize-1)/2)\n",
    "#xpad = ((delta,delta),(delta,delta))\n",
    "#DM = np.pad(DisparityMatrix,xpad,mode='constant',constant_values=0)\n",
    "DM_left_n9 = getDisparityMatrix(refImage=left_img,secondImage=right_img,wDim=windowSize,wLimit=75,l2r=False)\n",
    "DM_right_n9 = getDisparityMatrix(refImage=right_img,secondImage=left_img,wDim=windowSize,wLimit=75,l2r=True)"
   ]
  },
  {
   "cell_type": "code",
   "execution_count": 14,
   "metadata": {
    "collapsed": true
   },
   "outputs": [],
   "source": [
    "DM_left_n9_trim = DM_left_n9[delta:delta+left_img.shape[0], delta:delta+left_img.shape[1]]\n",
    "DM_right_n9_trim = DM_right_n9[delta:delta+right_img.shape[0], delta:delta+right_img.shape[1]]"
   ]
  },
  {
   "cell_type": "code",
   "execution_count": null,
   "metadata": {
    "collapsed": true
   },
   "outputs": [],
   "source": []
  },
  {
   "cell_type": "markdown",
   "metadata": {},
   "source": [
    "Second Segment:Back propogation for consistency check"
   ]
  },
  {
   "cell_type": "code",
   "execution_count": 15,
   "metadata": {
    "collapsed": false
   },
   "outputs": [],
   "source": [
    "def getConsistencyCheckedDM(fixedDisparityMatrix,varDisparityMatrix,l2r=True):\n",
    "    consistencyCheck = np.zeros(fixedDisparityMatrix.shape,dtype=np.int_)\n",
    "    matchCount = 0\n",
    "    for i in range(0,fixedDisparityMatrix.shape[0]):\n",
    "        for j in range(0,fixedDisparityMatrix.shape[1]):\n",
    "            #match each pixel in fixedImg with the var\n",
    "            #newPos in varImg= yPos+disp\n",
    "            if(l2r==True):\n",
    "                yPosVar = j + fixedDisparityMatrix[i,j]\n",
    "                if(yPosVar>=fixedDisparityMatrix.shape[1]):\n",
    "                    consistencyCheck[i,j]=0\n",
    "                else:\n",
    "                    if(fixedDisparityMatrix[i,j]==varDisparityMatrix[i,yPosVar]):\n",
    "                        #match found - copy the value of fixed into new matric\n",
    "                        consistencyCheck[i,j]=fixedDisparityMatrix[i,j]\n",
    "                        matchCount+=1\n",
    "                    else:\n",
    "                        consistencyCheck[i,j]=0\n",
    "            else:\n",
    "                yPosVar = j- fixedDisparityMatrix[i,j]\n",
    "                if(yPosVar<0):\n",
    "                    consistencyCheck[i,j]=0\n",
    "                else:\n",
    "                    if(fixedDisparityMatrix[i,j]==varDisparityMatrix[i,yPosVar]):\n",
    "                        #match found - copy the value of fixed into new matric\n",
    "                        consistencyCheck[i,j]=fixedDisparityMatrix[i,j]\n",
    "                        matchCount+=1\n",
    "                    else:\n",
    "                        consistencyCheck[i,j]=0\n",
    "    return (consistencyCheck,matchCount)"
   ]
  },
  {
   "cell_type": "code",
   "execution_count": 16,
   "metadata": {
    "collapsed": false
   },
   "outputs": [],
   "source": [
    "(CCl2r_n3,m1) = getConsistencyCheckedDM(fixedDisparityMatrix=DM_right_n3_trim,varDisparityMatrix=DM_left_n3_trim,l2r=True)\n",
    "(CCr2l_n3,m2) = getConsistencyCheckedDM(fixedDisparityMatrix=DM_left_n3_trim,varDisparityMatrix=DM_right_n3_trim,l2r=False)"
   ]
  },
  {
   "cell_type": "code",
   "execution_count": 18,
   "metadata": {
    "collapsed": false
   },
   "outputs": [],
   "source": [
    "(CCl2r_n9,m1) = getConsistencyCheckedDM(fixedDisparityMatrix=DM_right_n9_trim,varDisparityMatrix=DM_left_n9_trim,l2r=True)\n",
    "(CCr2l_n9,m2) = getConsistencyCheckedDM(fixedDisparityMatrix=DM_left_n9_trim,varDisparityMatrix=DM_right_n9_trim,l2r=False)"
   ]
  },
  {
   "cell_type": "code",
   "execution_count": 36,
   "metadata": {
    "collapsed": false
   },
   "outputs": [
    {
     "data": {
      "text/plain": [
       "True"
      ]
     },
     "execution_count": 36,
     "metadata": {},
     "output_type": "execute_result"
    }
   ],
   "source": [
    "cv2.imwrite('view5_disp_w3x3.png',CCl2r_n3)\n",
    "cv2.imwrite('view1_disp_w3x3.png',CCr2l_n3)\n",
    "cv2.imwrite('view5_disp_w9x9.png',CCl2r_n9)\n",
    "cv2.imwrite('view1_disp_w9x9.png',CCr2l_n9)\n",
    "cv2.imwrite('',DM_left_n3_trim)"
   ]
  },
  {
   "cell_type": "code",
   "execution_count": null,
   "metadata": {
    "collapsed": true
   },
   "outputs": [],
   "source": []
  },
  {
   "cell_type": "markdown",
   "metadata": {},
   "source": [
    "Third Segment:Calculate MSE"
   ]
  },
  {
   "cell_type": "code",
   "execution_count": 19,
   "metadata": {
    "collapsed": true
   },
   "outputs": [],
   "source": [
    "def getMse(imA,imB):\n",
    "    SE=[]\n",
    "    nonZeroIndexA = np.nonzero(imA)\n",
    "    iterNum = len(nonZeroIndexA[0])\n",
    "    for i in range(0,iterNum):\n",
    "        xPos = nonZeroIndexA[0][i]\n",
    "        yPos = nonZeroIndexA[1][i]\n",
    "        diff = imA[xPos,yPos] - imB[xPos,yPos]\n",
    "        SE.append(diff)\n",
    "    diffSq = np.square(SE)\n",
    "    diffSq = diffSq.flatten()\n",
    "    MSE = np.sum(diffSq) / (imB.shape[0] * imB.shape[1])\n",
    "    return MSE"
   ]
  },
  {
   "cell_type": "code",
   "execution_count": 20,
   "metadata": {
    "collapsed": true
   },
   "outputs": [],
   "source": [
    "#calculate MSE for window sizes 3x3, 9x9 and DM before and after backpropogation correction"
   ]
  },
  {
   "cell_type": "code",
   "execution_count": 21,
   "metadata": {
    "collapsed": true
   },
   "outputs": [],
   "source": [
    "mse_3x3_l = getMse(imA=DM_left_n3_trim,imB=left_depth)\n",
    "mse_3x3_r = getMse(imA=DM_right_n3_trim,imB=right_depth)"
   ]
  },
  {
   "cell_type": "code",
   "execution_count": 22,
   "metadata": {
    "collapsed": true
   },
   "outputs": [],
   "source": [
    "mseCM_3x3_r = getMse(imA=CCl2r_n3,imB=right_depth)\n",
    "mseCM_3x3_l = getMse(imA=CCr2l_n3,imB=left_depth)"
   ]
  },
  {
   "cell_type": "code",
   "execution_count": 23,
   "metadata": {
    "collapsed": false
   },
   "outputs": [
    {
     "data": {
      "text/plain": [
       "39"
      ]
     },
     "execution_count": 23,
     "metadata": {},
     "output_type": "execute_result"
    }
   ],
   "source": [
    "mseCM_3x3_l"
   ]
  },
  {
   "cell_type": "code",
   "execution_count": 24,
   "metadata": {
    "collapsed": false
   },
   "outputs": [
    {
     "data": {
      "text/plain": [
       "40"
      ]
     },
     "execution_count": 24,
     "metadata": {},
     "output_type": "execute_result"
    }
   ],
   "source": [
    "mseCM_3x3_r"
   ]
  },
  {
   "cell_type": "code",
   "execution_count": 27,
   "metadata": {
    "collapsed": false
   },
   "outputs": [
    {
     "data": {
      "text/plain": [
       "295"
      ]
     },
     "execution_count": 27,
     "metadata": {},
     "output_type": "execute_result"
    }
   ],
   "source": [
    "mse_3x3_l"
   ]
  },
  {
   "cell_type": "code",
   "execution_count": 28,
   "metadata": {
    "collapsed": false
   },
   "outputs": [
    {
     "data": {
      "text/plain": [
       "211"
      ]
     },
     "execution_count": 28,
     "metadata": {},
     "output_type": "execute_result"
    }
   ],
   "source": [
    "mse_3x3_r"
   ]
  },
  {
   "cell_type": "code",
   "execution_count": null,
   "metadata": {
    "collapsed": true
   },
   "outputs": [],
   "source": [
    "# 9x9"
   ]
  },
  {
   "cell_type": "code",
   "execution_count": 30,
   "metadata": {
    "collapsed": true
   },
   "outputs": [],
   "source": [
    "mse_9x9_l = getMse(imA=DM_left_n9_trim,imB=left_depth)\n",
    "mse_9x9_r = getMse(imA=DM_right_n9_trim,imB=right_depth)"
   ]
  },
  {
   "cell_type": "code",
   "execution_count": 31,
   "metadata": {
    "collapsed": true
   },
   "outputs": [],
   "source": [
    "mseCM_9x9_r = getMse(imA=CCl2r_n9,imB=right_depth)\n",
    "mseCM_9x9_l = getMse(imA=CCr2l_n9,imB=left_depth)"
   ]
  },
  {
   "cell_type": "code",
   "execution_count": 32,
   "metadata": {
    "collapsed": false
   },
   "outputs": [
    {
     "data": {
      "text/plain": [
       "28"
      ]
     },
     "execution_count": 32,
     "metadata": {},
     "output_type": "execute_result"
    }
   ],
   "source": [
    "mseCM_9x9_l"
   ]
  },
  {
   "cell_type": "code",
   "execution_count": 33,
   "metadata": {
    "collapsed": false
   },
   "outputs": [
    {
     "data": {
      "text/plain": [
       "255"
      ]
     },
     "execution_count": 33,
     "metadata": {},
     "output_type": "execute_result"
    }
   ],
   "source": [
    "mse_9x9_l"
   ]
  },
  {
   "cell_type": "code",
   "execution_count": 34,
   "metadata": {
    "collapsed": false
   },
   "outputs": [
    {
     "data": {
      "text/plain": [
       "30"
      ]
     },
     "execution_count": 34,
     "metadata": {},
     "output_type": "execute_result"
    }
   ],
   "source": [
    "mseCM_9x9_r"
   ]
  },
  {
   "cell_type": "code",
   "execution_count": 35,
   "metadata": {
    "collapsed": false
   },
   "outputs": [
    {
     "data": {
      "text/plain": [
       "182"
      ]
     },
     "execution_count": 35,
     "metadata": {},
     "output_type": "execute_result"
    }
   ],
   "source": [
    "mse_9x9_r"
   ]
  },
  {
   "cell_type": "code",
   "execution_count": null,
   "metadata": {
    "collapsed": true
   },
   "outputs": [],
   "source": []
  }
 ],
 "metadata": {
  "kernelspec": {
   "display_name": "Python 2",
   "language": "python",
   "name": "python2"
  },
  "language_info": {
   "codemirror_mode": {
    "name": "ipython",
    "version": 2
   },
   "file_extension": ".py",
   "mimetype": "text/x-python",
   "name": "python",
   "nbconvert_exporter": "python",
   "pygments_lexer": "ipython2",
   "version": "2.7.11"
  }
 },
 "nbformat": 4,
 "nbformat_minor": 0
}
