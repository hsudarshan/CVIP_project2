{
 "cells": [
  {
   "cell_type": "markdown",
   "metadata": {
    "collapsed": true
   },
   "source": [
    "Dynamic Programming"
   ]
  },
  {
   "cell_type": "code",
   "execution_count": 1,
   "metadata": {
    "collapsed": true
   },
   "outputs": [],
   "source": [
    "import os\n",
    "import numpy as np\n",
    "import cv2\n",
    "import math"
   ]
  },
  {
   "cell_type": "code",
   "execution_count": 2,
   "metadata": {
    "collapsed": false
   },
   "outputs": [],
   "source": [
    "left_img = cv2.imread('view1.png', 0)  #read it as a grayscale image\n",
    "right_img = cv2.imread('view5.png', 0)"
   ]
  },
  {
   "cell_type": "code",
   "execution_count": 3,
   "metadata": {
    "collapsed": true
   },
   "outputs": [],
   "source": [
    "#Disparity Computation for Left Image"
   ]
  },
  {
   "cell_type": "code",
   "execution_count": 4,
   "metadata": {
    "collapsed": false
   },
   "outputs": [],
   "source": [
    "OcclusionCost = int(20)"
   ]
  },
  {
   "cell_type": "markdown",
   "metadata": {},
   "source": [
    "#For Dynamic Programming you have build a cost matrix. Its dimension will be numcols x numcols"
   ]
  },
  {
   "cell_type": "code",
   "execution_count": 5,
   "metadata": {
    "collapsed": false
   },
   "outputs": [],
   "source": [
    "CostMatrix = np.zeros((left_img.shape[1],left_img.shape[1]),dtype=np.int_)"
   ]
  },
  {
   "cell_type": "markdown",
   "metadata": {},
   "source": [
    "#create a direction matrix... This is important in Dynamic Programming. You need to know which direction you need traverse"
   ]
  },
  {
   "cell_type": "code",
   "execution_count": 6,
   "metadata": {
    "collapsed": true
   },
   "outputs": [],
   "source": [
    "DirectionMatrix = np.zeros((left_img.shape[1],left_img.shape[1]),dtype=np.int_)"
   ]
  },
  {
   "cell_type": "code",
   "execution_count": 7,
   "metadata": {
    "collapsed": false
   },
   "outputs": [],
   "source": [
    "(numrows,numcols) = left_img.shape\n",
    "DisparityMatrix = np.zeros(left_img.shape)"
   ]
  },
  {
   "cell_type": "code",
   "execution_count": 8,
   "metadata": {
    "collapsed": false
   },
   "outputs": [],
   "source": [
    "numcols= int(numcols)\n",
    "numrows=int(numrows)"
   ]
  },
  {
   "cell_type": "code",
   "execution_count": 9,
   "metadata": {
    "collapsed": false
   },
   "outputs": [],
   "source": [
    "#creating and initialising the CostMatrix\n",
    "for i in range(0,numcols):\n",
    "    CostMatrix[i,0]=OcclusionCost*i\n",
    "    CostMatrix[0,i]=i*OcclusionCost"
   ]
  },
  {
   "cell_type": "markdown",
   "metadata": {},
   "source": [
    "#Using the pseudocode from \"A Maximum likelihood Stereo Algorithm\" paper given as reference\n",
    "#computing the costMatrix and directionMatrix"
   ]
  },
  {
   "cell_type": "code",
   "execution_count": 10,
   "metadata": {
    "collapsed": false
   },
   "outputs": [],
   "source": [
    "CostMatrixInit = np.copy(CostMatrix)"
   ]
  },
  {
   "cell_type": "code",
   "execution_count": 11,
   "metadata": {
    "collapsed": false
   },
   "outputs": [],
   "source": [
    "def subSeq(M):\n",
    "    p=int(M.shape[1]-1)\n",
    "    q=int(M.shape[1]-1)\n",
    "    matchSeq = np.zeros((1,numcols),dtype=np.int_)\n",
    "    while((p>0) and (q>0)):\n",
    "        if(M[p,q]==1):\n",
    "            popValue = q-p\n",
    "            #print(\"numcols/q: \",numcols,q)\n",
    "            #matchSeq[0,min((numcols-q),(numcols-1))]=popValue\n",
    "            matchSeq[0,q]=popValue\n",
    "            p-=1\n",
    "            q-=1\n",
    "        if(M[p,q]==2):\n",
    "            p-=1\n",
    "        if(M[p,q]==3):\n",
    "            \"\"\" if(q==(numcols-1)):\n",
    "                popValue=0\n",
    "            else:\n",
    "                popValue=matchSeq[0,q+1]\n",
    "            q-=1\n",
    "            #print(\"numcols/q: \",numcols,q)\n",
    "            #matchSeq[0,min((numcols-q),(numcols-1))]=popValue\n",
    "            \"\"\"\n",
    "            q-=1\n",
    "            popValue=0\n",
    "            matchSeq[0,q]=popValue\n",
    "        #matchSeqRevOrder.append(popValue)\n",
    "    return matchSeq"
   ]
  },
  {
   "cell_type": "code",
   "execution_count": 12,
   "metadata": {
    "collapsed": false
   },
   "outputs": [],
   "source": [
    "#k --> for processing one row of the image at a time\n",
    "def getDPDisparityMatrix(numrows,numcols,CostMatrixInit,img1,img2):\n",
    "    DisparityMatrix = np.zeros((numrows,numcols),dtype=np.int_)\n",
    "    for k in range(0,numrows):\n",
    "        imgRow=k\n",
    "        CostMatrix = np.copy(CostMatrixInit)\n",
    "        #i,j --> n --> no of cols of the image\n",
    "        for i in range(1,numcols):\n",
    "            for j in range(1,numcols):\n",
    "                intensityDiff = int(img1[imgRow,max(i-1,0)]) - int(img2[imgRow,max(j-1,0)])\n",
    "                min1 = CostMatrix[max(i-1,0),max(j-1,0)] + int(math.fabs(intensityDiff))\n",
    "                min2 = CostMatrix[max(i-1,0),j] + OcclusionCost\n",
    "                min3 = CostMatrix[i,max(j-1,0)] + OcclusionCost\n",
    "                cmin=min(min1,min2,min3)\n",
    "                CostMatrix[i,j]= cmin\n",
    "                if min1==cmin:\n",
    "                    DirectionMatrix[i,j]=1\n",
    "                elif min2==cmin:\n",
    "                    DirectionMatrix[i,j]=2\n",
    "                else:\n",
    "                    DirectionMatrix[i,j]=3\n",
    "        #at the end of each iteration, process the Direction Matrix\n",
    "        m = subSeq(DirectionMatrix)\n",
    "        np.copyto(DisparityMatrix[k,:],m)\n",
    "    return DisparityMatrix"
   ]
  },
  {
   "cell_type": "code",
   "execution_count": 13,
   "metadata": {
    "collapsed": false
   },
   "outputs": [],
   "source": [
    "from matplotlib import pyplot as plt\n",
    "def plot_me(img):\n",
    "    plt.imshow(img, cmap = 'gray', interpolation = 'bicubic')\n",
    "    plt.xticks([]), plt.yticks([])  # to hide tick values on X and Y axis\n",
    "    plt.show()"
   ]
  },
  {
   "cell_type": "code",
   "execution_count": 14,
   "metadata": {
    "collapsed": false
   },
   "outputs": [],
   "source": [
    "DM1 = getDPDisparityMatrix(numrows,numcols,CostMatrixInit,img1=left_img,img2=right_img)"
   ]
  },
  {
   "cell_type": "code",
   "execution_count": 19,
   "metadata": {
    "collapsed": true
   },
   "outputs": [],
   "source": [
    "plot_me(DM1)"
   ]
  },
  {
   "cell_type": "code",
   "execution_count": 20,
   "metadata": {
    "collapsed": false
   },
   "outputs": [],
   "source": [
    "DM2 = getDPDisparityMatrix(numrows,numcols,CostMatrixInit,img2=left_img,img1=right_img)"
   ]
  },
  {
   "cell_type": "code",
   "execution_count": 21,
   "metadata": {
    "collapsed": true
   },
   "outputs": [],
   "source": [
    "plot_me(DM2)"
   ]
  },
  {
   "cell_type": "code",
   "execution_count": 23,
   "metadata": {
    "collapsed": false
   },
   "outputs": [
    {
     "data": {
      "text/plain": [
       "True"
      ]
     },
     "execution_count": 23,
     "metadata": {},
     "output_type": "execute_result"
    }
   ],
   "source": [
    "cv2.imwrite('DisparityMap using DP -1.png',DM1)\n",
    "cv2.imwrite('DisparityMap using DP -2.png',DM2)"
   ]
  },
  {
   "cell_type": "code",
   "execution_count": null,
   "metadata": {
    "collapsed": true
   },
   "outputs": [],
   "source": []
  }
 ],
 "metadata": {
  "kernelspec": {
   "display_name": "Python 2",
   "language": "python",
   "name": "python2"
  },
  "language_info": {
   "codemirror_mode": {
    "name": "ipython",
    "version": 2
   },
   "file_extension": ".py",
   "mimetype": "text/x-python",
   "name": "python",
   "nbconvert_exporter": "python",
   "pygments_lexer": "ipython2",
   "version": "2.7.11"
  }
 },
 "nbformat": 4,
 "nbformat_minor": 0
}
